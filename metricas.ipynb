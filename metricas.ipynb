{
 "cells": [
  {
   "cell_type": "markdown",
   "metadata": {},
   "source": [
    "# Analisis de información de BBDD de Skaters"
   ]
  },
  {
   "cell_type": "code",
   "execution_count": 1,
   "metadata": {},
   "outputs": [],
   "source": [
    "\n",
    "# Importación librerías \n",
    "import psycopg2 as pg\n",
    "import pandas.io.sql as psql\n",
    "import pandas as pd\n",
    "import numpy as np\n",
    "import matplotlib.pyplot as plt\n",
    "import seaborn as sns\n",
    "import matplotlib.pyplot as plt\n",
    "\n",
    "\n"
   ]
  },
  {
   "cell_type": "code",
   "execution_count": 2,
   "metadata": {},
   "outputs": [
    {
     "name": "stderr",
     "output_type": "stream",
     "text": [
      "C:\\Users\\emers\\AppData\\Local\\Packages\\PythonSoftwareFoundation.Python.3.10_qbz5n2kfra8p0\\LocalCache\\local-packages\\Python310\\site-packages\\pandas\\io\\sql.py:761: UserWarning: pandas only support SQLAlchemy connectable(engine/connection) ordatabase string URI or sqlite3 DBAPI2 connectionother DBAPI2 objects are not tested, please consider using SQLAlchemy\n",
      "  warnings.warn(\n",
      "C:\\Users\\emers\\AppData\\Local\\Packages\\PythonSoftwareFoundation.Python.3.10_qbz5n2kfra8p0\\LocalCache\\local-packages\\Python310\\site-packages\\pandas\\io\\sql.py:761: UserWarning: pandas only support SQLAlchemy connectable(engine/connection) ordatabase string URI or sqlite3 DBAPI2 connectionother DBAPI2 objects are not tested, please consider using SQLAlchemy\n",
      "  warnings.warn(\n"
     ]
    }
   ],
   "source": [
    "# Preparación de conección a BBDD SQL\n",
    "connection = pg.connect(\"host=localhost dbname=skatepark user=postgres password=242424\")\n",
    "df = psql.read_sql('SELECT * FROM skaters', connection)\n",
    "product_category = psql.read_sql_query('select * FROM skaters', connection)"
   ]
  },
  {
   "cell_type": "code",
   "execution_count": 3,
   "metadata": {},
   "outputs": [
    {
     "data": {
      "text/html": [
       "<div>\n",
       "<style scoped>\n",
       "    .dataframe tbody tr th:only-of-type {\n",
       "        vertical-align: middle;\n",
       "    }\n",
       "\n",
       "    .dataframe tbody tr th {\n",
       "        vertical-align: top;\n",
       "    }\n",
       "\n",
       "    .dataframe thead th {\n",
       "        text-align: right;\n",
       "    }\n",
       "</style>\n",
       "<table border=\"1\" class=\"dataframe\">\n",
       "  <thead>\n",
       "    <tr style=\"text-align: right;\">\n",
       "      <th></th>\n",
       "      <th>id</th>\n",
       "      <th>email</th>\n",
       "      <th>nombre</th>\n",
       "      <th>password</th>\n",
       "      <th>anos_experiencia</th>\n",
       "      <th>especialidad</th>\n",
       "      <th>foto</th>\n",
       "      <th>estado</th>\n",
       "    </tr>\n",
       "  </thead>\n",
       "  <tbody>\n",
       "    <tr>\n",
       "      <th>0</th>\n",
       "      <td>13</td>\n",
       "      <td>ejemplo@ejemplo4.cl</td>\n",
       "      <td>nombre4</td>\n",
       "      <td>1234</td>\n",
       "      <td>3</td>\n",
       "      <td>outdoor</td>\n",
       "      <td>/public/fotos/sakert6.jpg</td>\n",
       "      <td>False</td>\n",
       "    </tr>\n",
       "    <tr>\n",
       "      <th>1</th>\n",
       "      <td>14</td>\n",
       "      <td>ejemplo@ejemplo5.cl</td>\n",
       "      <td>nombre5</td>\n",
       "      <td>1234</td>\n",
       "      <td>4</td>\n",
       "      <td>Downhill</td>\n",
       "      <td>/public/fotos/sakert8.jpg</td>\n",
       "      <td>False</td>\n",
       "    </tr>\n",
       "    <tr>\n",
       "      <th>2</th>\n",
       "      <td>16</td>\n",
       "      <td>ejemplo@ejemplo7.cl</td>\n",
       "      <td>nombre7</td>\n",
       "      <td>1234</td>\n",
       "      <td>1</td>\n",
       "      <td>Freestyle</td>\n",
       "      <td>/public/fotos/sakert5.jpg</td>\n",
       "      <td>False</td>\n",
       "    </tr>\n",
       "    <tr>\n",
       "      <th>3</th>\n",
       "      <td>17</td>\n",
       "      <td>ejemplo@ejemplo8.cl</td>\n",
       "      <td>nombre8</td>\n",
       "      <td>1234</td>\n",
       "      <td>3</td>\n",
       "      <td>Freestyle</td>\n",
       "      <td>/public/fotos/saker1.jpg</td>\n",
       "      <td>False</td>\n",
       "    </tr>\n",
       "    <tr>\n",
       "      <th>4</th>\n",
       "      <td>19</td>\n",
       "      <td>ejemplo@ejemplo10.cl</td>\n",
       "      <td>nombre10</td>\n",
       "      <td>242424</td>\n",
       "      <td>5</td>\n",
       "      <td>Freestyle</td>\n",
       "      <td>/public/fotos/saker1.jpg</td>\n",
       "      <td>False</td>\n",
       "    </tr>\n",
       "  </tbody>\n",
       "</table>\n",
       "</div>"
      ],
      "text/plain": [
       "   id                 email    nombre password  anos_experiencia especialidad  \\\n",
       "0  13   ejemplo@ejemplo4.cl   nombre4     1234                 3      outdoor   \n",
       "1  14   ejemplo@ejemplo5.cl   nombre5     1234                 4     Downhill   \n",
       "2  16   ejemplo@ejemplo7.cl   nombre7     1234                 1    Freestyle   \n",
       "3  17   ejemplo@ejemplo8.cl   nombre8     1234                 3    Freestyle   \n",
       "4  19  ejemplo@ejemplo10.cl  nombre10   242424                 5    Freestyle   \n",
       "\n",
       "                        foto  estado  \n",
       "0  /public/fotos/sakert6.jpg   False  \n",
       "1  /public/fotos/sakert8.jpg   False  \n",
       "2  /public/fotos/sakert5.jpg   False  \n",
       "3   /public/fotos/saker1.jpg   False  \n",
       "4   /public/fotos/saker1.jpg   False  "
      ]
     },
     "execution_count": 3,
     "metadata": {},
     "output_type": "execute_result"
    }
   ],
   "source": [
    "# Previsualición de DataFrame \n",
    "df.head()"
   ]
  },
  {
   "cell_type": "code",
   "execution_count": 4,
   "metadata": {},
   "outputs": [
    {
     "name": "stdout",
     "output_type": "stream",
     "text": [
      "<class 'pandas.core.frame.DataFrame'>\n",
      "RangeIndex: 14 entries, 0 to 13\n",
      "Data columns (total 8 columns):\n",
      " #   Column            Non-Null Count  Dtype \n",
      "---  ------            --------------  ----- \n",
      " 0   id                14 non-null     int64 \n",
      " 1   email             14 non-null     object\n",
      " 2   nombre            14 non-null     object\n",
      " 3   password          14 non-null     object\n",
      " 4   anos_experiencia  14 non-null     int64 \n",
      " 5   especialidad      14 non-null     object\n",
      " 6   foto              14 non-null     object\n",
      " 7   estado            14 non-null     bool  \n",
      "dtypes: bool(1), int64(2), object(5)\n",
      "memory usage: 926.0+ bytes\n"
     ]
    }
   ],
   "source": [
    "# Preprocesamiento de DataFrame\n",
    "df.info()"
   ]
  },
  {
   "cell_type": "code",
   "execution_count": 5,
   "metadata": {},
   "outputs": [
    {
     "data": {
      "text/html": [
       "<div>\n",
       "<style scoped>\n",
       "    .dataframe tbody tr th:only-of-type {\n",
       "        vertical-align: middle;\n",
       "    }\n",
       "\n",
       "    .dataframe tbody tr th {\n",
       "        vertical-align: top;\n",
       "    }\n",
       "\n",
       "    .dataframe thead th {\n",
       "        text-align: right;\n",
       "    }\n",
       "</style>\n",
       "<table border=\"1\" class=\"dataframe\">\n",
       "  <thead>\n",
       "    <tr style=\"text-align: right;\">\n",
       "      <th></th>\n",
       "      <th>id</th>\n",
       "      <th>nombre</th>\n",
       "      <th>anos_experiencia</th>\n",
       "      <th>especialidad</th>\n",
       "      <th>estado</th>\n",
       "    </tr>\n",
       "  </thead>\n",
       "  <tbody>\n",
       "    <tr>\n",
       "      <th>0</th>\n",
       "      <td>13</td>\n",
       "      <td>nombre4</td>\n",
       "      <td>3</td>\n",
       "      <td>outdoor</td>\n",
       "      <td>False</td>\n",
       "    </tr>\n",
       "    <tr>\n",
       "      <th>1</th>\n",
       "      <td>14</td>\n",
       "      <td>nombre5</td>\n",
       "      <td>4</td>\n",
       "      <td>Downhill</td>\n",
       "      <td>False</td>\n",
       "    </tr>\n",
       "    <tr>\n",
       "      <th>2</th>\n",
       "      <td>16</td>\n",
       "      <td>nombre7</td>\n",
       "      <td>1</td>\n",
       "      <td>Freestyle</td>\n",
       "      <td>False</td>\n",
       "    </tr>\n",
       "    <tr>\n",
       "      <th>3</th>\n",
       "      <td>17</td>\n",
       "      <td>nombre8</td>\n",
       "      <td>3</td>\n",
       "      <td>Freestyle</td>\n",
       "      <td>False</td>\n",
       "    </tr>\n",
       "    <tr>\n",
       "      <th>4</th>\n",
       "      <td>19</td>\n",
       "      <td>nombre10</td>\n",
       "      <td>5</td>\n",
       "      <td>Freestyle</td>\n",
       "      <td>False</td>\n",
       "    </tr>\n",
       "  </tbody>\n",
       "</table>\n",
       "</div>"
      ],
      "text/plain": [
       "   id    nombre  anos_experiencia especialidad  estado\n",
       "0  13   nombre4                 3      outdoor   False\n",
       "1  14   nombre5                 4     Downhill   False\n",
       "2  16   nombre7                 1    Freestyle   False\n",
       "3  17   nombre8                 3    Freestyle   False\n",
       "4  19  nombre10                 5    Freestyle   False"
      ]
     },
     "execution_count": 5,
     "metadata": {},
     "output_type": "execute_result"
    }
   ],
   "source": [
    "# Filtrado del DF\n",
    "df1=df.drop(['password', 'email', 'foto'], axis=1)\n",
    "df1.head()"
   ]
  },
  {
   "cell_type": "markdown",
   "metadata": {},
   "source": [
    "## Gráfico 1: Especialidad de particpantes"
   ]
  },
  {
   "cell_type": "code",
   "execution_count": 6,
   "metadata": {},
   "outputs": [
    {
     "data": {
      "image/png": "[encoded data removed]",
      "text/plain": [
       "<Figure size 432x288 with 1 Axes>"
      ]
     },
     "metadata": {},
     "output_type": "display_data"
    }
   ],
   "source": [
    "\n",
    "especialidades= df1['especialidad'].value_counts()\n",
    "\n",
    "sns.set_theme(style=\"whitegrid\")\n",
    "sns.barplot( x=especialidades.index, y= especialidades.values);\n",
    "plt.title(\"Especialidades de los participantes\", fontsize=20)\n",
    "plt.xticks( rotation=90);\n",
    "plt.xlabel(\"Cantidad\");\n",
    "plt.ylabel(\"Especialidad\");"
   ]
  },
  {
   "cell_type": "code",
   "execution_count": 7,
   "metadata": {},
   "outputs": [
    {
     "data": {
      "text/plain": [
       "False    7\n",
       "True     7\n",
       "Name: estado, dtype: int64"
      ]
     },
     "execution_count": 7,
     "metadata": {},
     "output_type": "execute_result"
    }
   ],
   "source": [
    "df['estado'].value_counts()"
   ]
  },
  {
   "cell_type": "markdown",
   "metadata": {},
   "source": [
    "## Gráfico 2: Estado de participantes en plataforma"
   ]
  },
  {
   "cell_type": "code",
   "execution_count": 8,
   "metadata": {},
   "outputs": [
    {
     "data": {
      "image/png": "[encoded data removed]",
      "text/plain": [
       "<Figure size 432x288 with 1 Axes>"
      ]
     },
     "metadata": {},
     "output_type": "display_data"
    }
   ],
   "source": [
    "data= df1['estado'].value_counts()\n",
    "labels=['Aprobado','No aprobado']\n",
    "plt.pie(data, labels= labels, autopct='%.0f%%',)\n",
    "plt.title(\"Estado de aprobación de skaters en plataforma\", fontsize=20);"
   ]
  },
  {
   "cell_type": "markdown",
   "metadata": {},
   "source": [
    "## Gráfico 3: Promedio de años de experiencia por especialidad"
   ]
  },
  {
   "cell_type": "code",
   "execution_count": 9,
   "metadata": {},
   "outputs": [
    {
     "data": {
      "image/png": "[encoded data removed]",
      "text/plain": [
       "<Figure size 432x288 with 1 Axes>"
      ]
     },
     "metadata": {},
     "output_type": "display_data"
    }
   ],
   "source": [
    "df2= df1.drop(['estado', 'id'], axis=1)\n",
    "años_especialidad= df2.groupby(['especialidad']).mean()\n",
    "años_especialidad.plot();\n",
    "plt.title(\"Promedio de años de experiencia por especialidad\", fontsize=20);\n"
   ]
  }
 ],
 "metadata": {
  "interpreter": {
   "hash": "05da2cafccd1180a8bdb36d2e3bb1b88f111cae2e01a65362c779920c115eced"
  },
  "kernelspec": {
   "display_name": "Python 3.10.4 64-bit (windows store)",
   "language": "python",
   "name": "python3"
  },
  "language_info": {
   "codemirror_mode": {
    "name": "ipython",
    "version": 3
   },
   "file_extension": ".py",
   "mimetype": "text/x-python",
   "name": "python",
   "nbconvert_exporter": "python",
   "pygments_lexer": "ipython3",
   "version": "3.10.4"
  },
  "orig_nbformat": 4
 },
 "nbformat": 4,
 "nbformat_minor": 2
}
